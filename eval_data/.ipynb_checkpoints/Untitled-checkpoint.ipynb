{
 "cells": [
  {
   "cell_type": "code",
   "execution_count": 1,
   "metadata": {},
   "outputs": [],
   "source": [
    "import matplotlib.pyplot as plt\n",
    "import numpy as np\n",
    "import matplotlib.cm as cm\n",
    "import os\n"
   ]
  },
  {
   "cell_type": "code",
   "execution_count": 6,
   "metadata": {},
   "outputs": [],
   "source": [
    "data = []\n",
    "\n",
    "element =[0,[],[],[]]\n",
    "\n",
    "logdir = 'logfiles'\n",
    "bagname = 'NEW'\n",
    "PIDvalues = 'P5I5D5'\n",
    "\n",
    "\n",
    "currentdir = os.path.join(os.getcwd(),logdir,bagname,PIDvalues)\n",
    "\n",
    "\n",
    "logfile = currentdir + '/logfile'\n"
   ]
  },
  {
   "cell_type": "code",
   "execution_count": null,
   "metadata": {},
   "outputs": [],
   "source": [
    "with open(logfile) as f:\n",
    "    line = f.readline() #read in first line\n",
    "    while line != 'RECORDING START\\n': #if not start of recording\n",
    "        line = f.readline()\n",
    "        \n",
    "    if line == 'RECORDING START\\n':#reording starts in next line\n",
    "        while line:\n",
    "            element[0] = f.readline().strip() #first line of recording: Timestamp\n",
    "            element[1] = [float(k) for k in f.readline().strip().split()] #setpoints\n",
    "            element[2] = [float(k) for k in f.readline().strip().split()] #lengths\n",
    "            element[3] = [float(k) for k in f.readline().strip().split()] #forces\n",
    "            data.append(element.copy())\n",
    "            line = f.readline() #read in empty line\n",
    "            \n",
    "        "
   ]
  },
  {
   "cell_type": "code",
   "execution_count": 5,
   "metadata": {
    "scrolled": false
   },
   "outputs": [
    {
     "data": {
      "text/plain": [
       "[0.0,\n",
       " 0.0,\n",
       " 0.0,\n",
       " 0.0,\n",
       " 0.0,\n",
       " 0.0,\n",
       " 0.0,\n",
       " 0.0,\n",
       " 0.0,\n",
       " 0.0,\n",
       " 0.0,\n",
       " 0.0,\n",
       " 0.0,\n",
       " 0.0,\n",
       " 0.0,\n",
       " 0.0,\n",
       " 0.0,\n",
       " 0.0,\n",
       " 0.0,\n",
       " 0.0,\n",
       " 0.0,\n",
       " 0.0,\n",
       " 0.0,\n",
       " 0.0,\n",
       " 0.0,\n",
       " 0.0,\n",
       " 0.0,\n",
       " 0.0,\n",
       " 0.0,\n",
       " 0.0,\n",
       " 0.0,\n",
       " 0.0,\n",
       " 0.0,\n",
       " 0.0,\n",
       " 0.0,\n",
       " 0.0,\n",
       " 0.0,\n",
       " 0.0]"
      ]
     },
     "execution_count": 5,
     "metadata": {},
     "output_type": "execute_result"
    }
   ],
   "source": [
    "element[3]"
   ]
  },
  {
   "cell_type": "code",
   "execution_count": null,
   "metadata": {},
   "outputs": [],
   "source": [
    "element[1] = [float(k) for k in stripped_line.split()]"
   ]
  },
  {
   "cell_type": "code",
   "execution_count": null,
   "metadata": {},
   "outputs": [],
   "source": [
    "\n",
    "\n",
    "with open(logfile) as f:\n",
    "    line = f.readline()\n",
    "    while line:\n",
    "        if (line.find(\"1\") == 0):\n",
    "            element[0]=int(line.strip())\n",
    "            line = f.readline()\n",
    "            if (line.find(\"[\") == 0):\n",
    "                stripped_line = line[1:].strip()\n",
    "                line = f.readline()\n",
    "                while (line.find(\"]\") == -1):\n",
    "                    stripped_line += \" \"+line.strip()\n",
    "                    line = f.readline()\n",
    "                if (line.find(\"]\") > 0):\n",
    "                    stripped_line += \" \"+line[:-2].strip()\n",
    "                    element[1] = [float(k) for k in stripped_line.split()]\n",
    "                    forces.append(element.copy())\n",
    "                    line = f.readline()\n",
    "            "
   ]
  },
  {
   "cell_type": "code",
   "execution_count": null,
   "metadata": {},
   "outputs": [],
   "source": []
  }
 ],
 "metadata": {
  "kernelspec": {
   "display_name": "Python 3",
   "language": "python",
   "name": "python3"
  },
  "language_info": {
   "codemirror_mode": {
    "name": "ipython",
    "version": 3
   },
   "file_extension": ".py",
   "mimetype": "text/x-python",
   "name": "python",
   "nbconvert_exporter": "python",
   "pygments_lexer": "ipython3",
   "version": "3.8.10"
  }
 },
 "nbformat": 4,
 "nbformat_minor": 4
}
