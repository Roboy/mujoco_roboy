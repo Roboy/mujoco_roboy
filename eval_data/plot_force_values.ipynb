{
 "cells": [
  {
   "cell_type": "code",
   "execution_count": 1,
   "id": "d9357e2b",
   "metadata": {},
   "outputs": [],
   "source": [
    "import matplotlib.pyplot as plt\n",
    "import numpy as np\n",
    "import matplotlib.cm as cm\n"
   ]
  },
  {
   "cell_type": "code",
   "execution_count": 2,
   "id": "35e8a3fa",
   "metadata": {},
   "outputs": [],
   "source": [
    "data=[]\n",
    "element =[0,[0]]\n",
    "filename = 'shoulder_60s'\n",
    "\n",
    "with open(filename) as f:\n",
    "    line = f.readline()\n",
    "    while line:\n",
    "        if (line.find(\"1\") == 0):\n",
    "            element[0]=int(line.strip())\n",
    "            line = f.readline()\n",
    "            if (line.find(\"[\") == 0):\n",
    "                stripped_line = line[1:].strip()\n",
    "                line = f.readline()\n",
    "                while (line.find(\"]\") == -1):\n",
    "                    stripped_line += \" \"+line.strip()\n",
    "                    line = f.readline()\n",
    "                if (line.find(\"]\") > 0):\n",
    "                    stripped_line += \" \"+line[:-2].strip()\n",
    "                    element[1] = [float(k) for k in stripped_line.split()]\n",
    "                    data.append(element.copy())\n",
    "                    line = f.readline()\n",
    "            \n",
    "                "
   ]
  },
  {
   "cell_type": "code",
   "execution_count": 3,
   "id": "5ff20feb",
   "metadata": {},
   "outputs": [],
   "source": [
    "datanr = len(data)\n",
    "tendonnr = len(data[1][1])"
   ]
  },
  {
   "cell_type": "code",
   "execution_count": 4,
   "id": "1f4ac34f",
   "metadata": {},
   "outputs": [],
   "source": [
    "#first nonzero element\n",
    "startindices = []\n",
    "for t in range(tendonnr):\n",
    "    startindices.append(next((i for i, x in enumerate([n[1][t] for n in data]) if x), None))\n",
    "\n",
    "Not_none_values = filter(None.__ne__, startindices)\n",
    "startindices = list(Not_none_values)\n"
   ]
  },
  {
   "cell_type": "code",
   "execution_count": 5,
   "id": "35b4ad70",
   "metadata": {},
   "outputs": [
    {
     "name": "stdout",
     "output_type": "stream",
     "text": [
      "Data Points: 3512 \n",
      "Tendons: 37\n",
      "Plot Data starts at 307 and ends at 3819\n"
     ]
    }
   ],
   "source": [
    "#start at specific index?\n",
    "startindex = min(startindices)\n",
    "#start some indices before?\n",
    "endindex = datanr\n",
    "\n",
    "plotdata = data[startindex:endindex]\n",
    "\n",
    "plotdatanr = len(plotdata)\n",
    "\n",
    "print(\"Data Points: %i \\nTendons: %i\" % (plotdatanr,tendonnr))\n",
    "print(\"Plot Data starts at %i and ends at %i\" % (startindex,endindex))\n"
   ]
  },
  {
   "cell_type": "code",
   "execution_count": 6,
   "id": "68d4ea1b",
   "metadata": {},
   "outputs": [],
   "source": [
    "x = [m[0] for m in plotdata]\n",
    "\n",
    "\n",
    "\n",
    "#start x axis with 0\n",
    "tmin = min([m[0] for m in plotdata])\n",
    "\n",
    "x = [t - x[0] for t in x]\n",
    "x = [e*1e-9 for e in x]\n",
    "\n",
    "startsec = int(x[0])\n",
    "endsec = int(x[-1])\n",
    "\n",
    "\n",
    "#x is in seconds now\n"
   ]
  },
  {
   "cell_type": "code",
   "execution_count": 7,
   "id": "7e7a7437",
   "metadata": {},
   "outputs": [],
   "source": [
    "shoulder_idx=[0,1,2,3,4,5,6,7]\n",
    "#biceps 17 triceps 16"
   ]
  },
  {
   "cell_type": "code",
   "execution_count": null,
   "id": "a1a2810f",
   "metadata": {},
   "outputs": [],
   "source": [
    "shoulder_colors = cm.rainbow(np.linspace(0, 1, len(shoulder_idx)))\n",
    "\n",
    "fig_shoulder, axs_shoulder = plt.subplots(3, constrained_layout=True)\n",
    "fig_shoulder.set_size_inches(40, 15*3)\n",
    "for u in shoulder_idx:\n",
    "    axs_shoulder[0].plot(x,[n[1][u] for n in plotdata], color=shoulder_colors[shoulder_idx.index(u)])\n",
    "    \n",
    "for u in shoulder_idx[:4]:\n",
    "    axs_shoulder[1].plot(x,[n[1][u] for n in plotdata], color=shoulder_colors[shoulder_idx.index(u)])\n",
    "    \n",
    "for u in shoulder_idx[4:]:\n",
    "    axs_shoulder[2].plot(x,[n[1][u] for n in plotdata], color=shoulder_colors[shoulder_idx.index(u)])\n",
    "\n",
    "axs_shoulder[0].set_title('All shoulder Tendons', fontsize = 30)\n",
    "axs_shoulder[1].set_title('Shoulder Tendons 0:4', fontsize = 30)\n",
    "axs_shoulder[2].set_title('Shoulder Tendons 4:7', fontsize = 30)\n",
    "\n",
    "for a in axs_shoulder:\n",
    "    a.set_xlabel('Time [s]', fontsize=20)\n",
    "    a.set_ylabel('Force [N]', fontsize=20)\n",
    "\n",
    "fig_shoulder.suptitle('Time from %ss to %ss' % (startsec, endsec), fontsize = 30)\n",
    "    \n",
    "fig_shoulder.savefig('shoulder_%s_s%se%s.png' %(filename, startsec, endsec) , dpi = 100)"
   ]
  },
  {
   "cell_type": "code",
   "execution_count": null,
   "id": "f167b919",
   "metadata": {
    "scrolled": true
   },
   "outputs": [],
   "source": [
    "fig_cepses, axs_cepses = plt.subplots(1, constrained_layout=True)\n",
    "\n",
    "fig_cepses.set_size_inches(40, 15)\n",
    "\n",
    "axs_cepses.plot(x,[n[1][16] for n in plotdata], color='green')\n",
    "axs_cepses.plot(x,[n[1][17] for n in plotdata], color='red')\n",
    "\n",
    "axs_cepses.set_title('Biceps (red) and Triceps (green)', fontsize = 30)\n",
    "axs_cepses.set_xlabel('Time [s]', fontsize=20)\n",
    "axs_cepses.set_ylabel('Force [N]', fontsize=20)\n",
    "\n",
    "fig_cepses.suptitle('Time from %ss to %ss' % (startsec, endsec), fontsize = 30)\n",
    "\n",
    "fig_cepses.savefig('cepses_%s_s%se%s.png' %(filename, startsec, endsec) , dpi = 100)"
   ]
  },
  {
   "cell_type": "code",
   "execution_count": null,
   "id": "c66c4a50",
   "metadata": {},
   "outputs": [],
   "source": [
    "# was to plot whole data. Now plots of relevant data follow"
   ]
  },
  {
   "cell_type": "code",
   "execution_count": null,
   "id": "96b9b4f0",
   "metadata": {},
   "outputs": [],
   "source": [
    "startsec = 19\n",
    "endsec = 25\n",
    "\n",
    "startindex = next(z[0] for z in enumerate(x) if z[1] > startsec)\n",
    "endindex = next(z[0] for z in enumerate(x) if z[1] > endsec)"
   ]
  },
  {
   "cell_type": "code",
   "execution_count": null,
   "id": "33c182e2",
   "metadata": {},
   "outputs": [],
   "source": [
    "plotdata = data[startindex:endindex]\n",
    "x = x[startindex:endindex]\n",
    "\n",
    "plotdatanr = len(plotdata)\n",
    "\n",
    "print(\"Data Points: %i \\nTendons: %i\" % (plotdatanr,tendonnr))\n",
    "print(\"Plot Data starts at %i and ends at %i\" % (startindex,endindex))"
   ]
  },
  {
   "cell_type": "code",
   "execution_count": null,
   "id": "318294f9",
   "metadata": {},
   "outputs": [],
   "source": [
    "shoulder_colors = cm.rainbow(np.linspace(0, 1, len(shoulder_idx)))\n",
    "\n",
    "fig_shoulder, axs_shoulder = plt.subplots(3, constrained_layout=True)\n",
    "fig_shoulder.set_size_inches(40, 15*3)\n",
    "for u in shoulder_idx:\n",
    "    axs_shoulder[0].plot(x,[n[1][u] for n in plotdata], color=shoulder_colors[shoulder_idx.index(u)])\n",
    "    \n",
    "for u in shoulder_idx[:4]:\n",
    "    axs_shoulder[1].plot(x,[n[1][u] for n in plotdata], color=shoulder_colors[shoulder_idx.index(u)])\n",
    "    \n",
    "for u in shoulder_idx[4:]:\n",
    "    axs_shoulder[2].plot(x,[n[1][u] for n in plotdata], color=shoulder_colors[shoulder_idx.index(u)])\n",
    "\n",
    "axs_shoulder[0].set_title('All shoulder Tendons', fontsize = 30)\n",
    "axs_shoulder[1].set_title('Shoulder Tendons 0:4', fontsize = 30)\n",
    "axs_shoulder[2].set_title('Shoulder Tendons 4:7', fontsize = 30)\n",
    "\n",
    "for a in axs_shoulder:\n",
    "    a.set_xlabel('Time [s]', fontsize=20)\n",
    "    a.set_ylabel('Force [N]', fontsize=20)\n",
    "\n",
    "fig_shoulder.suptitle('Time from %ss to %ss' % (startsec, endsec), fontsize = 30)\n",
    "    \n",
    "fig_shoulder.savefig('shoulder_%s_s%se%s.png' %(filename, startsec, endsec) , dpi = 100)"
   ]
  },
  {
   "cell_type": "code",
   "execution_count": null,
   "id": "16024d58",
   "metadata": {},
   "outputs": [],
   "source": [
    "fig_cepses, axs_cepses = plt.subplots(1, constrained_layout=True)\n",
    "\n",
    "fig_cepses.set_size_inches(40, 15)\n",
    "\n",
    "axs_cepses.plot(x,[n[1][16] for n in plotdata], color='green')\n",
    "axs_cepses.plot(x,[n[1][17] for n in plotdata], color='red')\n",
    "\n",
    "axs_cepses.set_title('Biceps (red) and Triceps (green)', fontsize = 30)\n",
    "axs_cepses.set_xlabel('Time [s]', fontsize=20)\n",
    "axs_cepses.set_ylabel('Force [N]', fontsize=20)\n",
    "\n",
    "fig_cepses.suptitle('Time from %ss to %ss' % (startsec, endsec), fontsize = 30)\n",
    "\n",
    "fig_cepses.savefig('cepses_%s_s%se%s.png' %(filename, startsec, endsec) , dpi = 100)"
   ]
  },
  {
   "cell_type": "raw",
   "id": "3e253e47",
   "metadata": {
    "scrolled": true
   },
   "source": [
    "\n",
    "\n",
    "#plot shoulder left\n",
    "\n",
    "\n",
    "fig, axs_up = plt.subplots(upper_pairs+1)\n",
    "fig_up.set_size_inches(40, 15*upper_pairs+1)\n",
    "\n",
    "\n",
    "\n",
    "\n",
    "\n",
    "upper_colors = cm.rainbow(np.linspace(0, 1, len(upperarm_idx)))\n",
    "upper_pairs=int(len(upperarm_idx)/2)\n",
    "\n",
    "\n",
    "fig_up, axs_up = plt.subplots(upper_pairs+1)\n",
    "fig_up.set_size_inches(40, 15*upper_pairs+1)\n",
    "\n",
    "#full upper arm\n",
    "for u in upperarm_idx:\n",
    "    axs_up[0].plot(x,[n[1][u] for n in plotdata], color=upper_colors[upperarm_idx.index(u)])\n",
    "    \n",
    "\n",
    "for l in range(upper_pairs):\n",
    "    for u in upperarm_idx[l*2:l*2+2]:\n",
    "        axs_up[l+1].plot(x,[n[1][u] for n in plotdata], color=upper_colors[upperarm_idx.index(u)])\n",
    "        \n",
    "        \n",
    "        \n",
    "        \n",
    "        \n",
    "        \n",
    "        \n",
    "        \n",
    "#plot lower left arm\n",
    "lower_pairs=int(len(lowerarm_idx)/2)\n",
    "\n",
    "fig_low, axs_low = plt.subplots(lower_pairs+1)\n",
    "fig_low.set_size_inches(40, 15*lower_pairs+1)\n",
    "\n",
    "#full lower arm\n",
    "for u in lowerarm_idx:\n",
    "    axs_low[0].plot(x,[n[1][u] for n in plotdata])\n",
    "    \n",
    "\n",
    "for l in range(lower_pairs):\n",
    "    for u in lowerarm_idx[l*2:l*2+2]:\n",
    "        axs_low[l+1].plot(x,[n[1][u] for n in plotdata])\n",
    "    \n"
   ]
  }
 ],
 "metadata": {
  "kernelspec": {
   "display_name": "Python 3 (ipykernel)",
   "language": "python",
   "name": "python3"
  },
  "language_info": {
   "codemirror_mode": {
    "name": "ipython",
    "version": 3
   },
   "file_extension": ".py",
   "mimetype": "text/x-python",
   "name": "python",
   "nbconvert_exporter": "python",
   "pygments_lexer": "ipython3",
   "version": "3.8.10"
  }
 },
 "nbformat": 4,
 "nbformat_minor": 5
}
